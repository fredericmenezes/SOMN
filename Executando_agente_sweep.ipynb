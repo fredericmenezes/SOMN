{
  "nbformat": 4,
  "nbformat_minor": 0,
  "metadata": {
    "colab": {
      "provenance": [],
      "gpuType": "T4"
    },
    "kernelspec": {
      "name": "python3",
      "display_name": "Python 3"
    },
    "language_info": {
      "name": "python"
    },
    "accelerator": "GPU"
  },
  "cells": [
    {
      "cell_type": "markdown",
      "source": [
        "# Sintonia de Parametros"
      ],
      "metadata": {
        "id": "yZKWLaL2gKcP"
      }
    },
    {
      "cell_type": "markdown",
      "source": [
        "## Intalando dependências"
      ],
      "metadata": {
        "id": "F9_GvRXhgRce"
      }
    },
    {
      "cell_type": "markdown",
      "source": [
        "**Instalando WandB**"
      ],
      "metadata": {
        "id": "HBNW0HGmhTf2"
      }
    },
    {
      "cell_type": "code",
      "execution_count": 1,
      "metadata": {
        "colab": {
          "base_uri": "https://localhost:8080/"
        },
        "id": "FoMNoOqrgJkr",
        "outputId": "6903723c-b00e-4493-cf66-843762cd6461"
      },
      "outputs": [
        {
          "output_type": "stream",
          "name": "stdout",
          "text": [
            "\u001b[2K     \u001b[90m━━━━━━━━━━━━━━━━━━━━━━━━━━━━━━━━━━━━━━━━\u001b[0m \u001b[32m2.1/2.1 MB\u001b[0m \u001b[31m11.6 MB/s\u001b[0m eta \u001b[36m0:00:00\u001b[0m\n",
            "\u001b[2K     \u001b[90m━━━━━━━━━━━━━━━━━━━━━━━━━━━━━━━━━━━━━━━━\u001b[0m \u001b[32m190.6/190.6 kB\u001b[0m \u001b[31m15.9 MB/s\u001b[0m eta \u001b[36m0:00:00\u001b[0m\n",
            "\u001b[2K     \u001b[90m━━━━━━━━━━━━━━━━━━━━━━━━━━━━━━━━━━━━━━━━\u001b[0m \u001b[32m254.1/254.1 kB\u001b[0m \u001b[31m18.6 MB/s\u001b[0m eta \u001b[36m0:00:00\u001b[0m\n",
            "\u001b[2K     \u001b[90m━━━━━━━━━━━━━━━━━━━━━━━━━━━━━━━━━━━━━━━━\u001b[0m \u001b[32m62.7/62.7 kB\u001b[0m \u001b[31m6.7 MB/s\u001b[0m eta \u001b[36m0:00:00\u001b[0m\n",
            "\u001b[?25h"
          ]
        }
      ],
      "source": [
        "!pip install wandb -Uq"
      ]
    },
    {
      "cell_type": "markdown",
      "source": [
        "**Fazendo login usando minha Api Key**:\n",
        "- (fredericmferreira): 1e1748bda3d3df311c1f2248a3dc5d4efea0e752\n",
        "- (fredericmenezes): 5caaa32815c5d7c59d7aef46d39d712cd7a98190\n",
        "- (frederic-ufma): d9ba20d5b41895c6f6b27b55de9702d701636b50\n",
        "- (saoluismarketing): b3fcde39b70a54fcbc904340ef31f6d8c481b0d9\n",
        "- (fredcomputacao): 69336ac55d8f8254054224201713747849b022bf\n",
        "- (isaacnsmenezes): 2b1e96559cebc2b21529015e7ab69bcefa749ca8\n",
        "\n"
      ],
      "metadata": {
        "id": "fZkw-6C8g1FP"
      }
    },
    {
      "cell_type": "code",
      "source": [
        "!wandb login 1e1748bda3d3df311c1f2248a3dc5d4efea0e752"
      ],
      "metadata": {
        "colab": {
          "base_uri": "https://localhost:8080/"
        },
        "id": "_XK5iy1Pg2Yg",
        "outputId": "60777372-719e-473f-ef25-ff08b8719f2e"
      },
      "execution_count": 2,
      "outputs": [
        {
          "output_type": "stream",
          "name": "stdout",
          "text": [
            "\u001b[34m\u001b[1mwandb\u001b[0m: Appending key for api.wandb.ai to your netrc file: /root/.netrc\n"
          ]
        }
      ]
    },
    {
      "cell_type": "code",
      "source": [
        "# tentando login\n",
        "import wandb\n",
        "wandb.login()"
      ],
      "metadata": {
        "colab": {
          "base_uri": "https://localhost:8080/"
        },
        "id": "ZancqC-ahAtK",
        "outputId": "d786671c-1721-466c-a320-eb6bdfb49495"
      },
      "execution_count": 3,
      "outputs": [
        {
          "output_type": "stream",
          "name": "stderr",
          "text": [
            "\u001b[34m\u001b[1mwandb\u001b[0m: Currently logged in as: \u001b[33mfredericmferreira\u001b[0m (\u001b[33mlacmor\u001b[0m). Use \u001b[1m`wandb login --relogin`\u001b[0m to force relogin\n"
          ]
        },
        {
          "output_type": "execute_result",
          "data": {
            "text/plain": [
              "True"
            ]
          },
          "metadata": {},
          "execution_count": 3
        }
      ]
    },
    {
      "cell_type": "markdown",
      "source": [
        "**Instalando Stable-Baselines3**\n"
      ],
      "metadata": {
        "id": "aQlJy5ajhF4l"
      }
    },
    {
      "cell_type": "code",
      "source": [
        "!pip install \"stable-baselines3[extra]>=2.0.0a4\" -Uq"
      ],
      "metadata": {
        "colab": {
          "base_uri": "https://localhost:8080/"
        },
        "id": "tP6ZOCckhJxa",
        "outputId": "b9927fea-a087-47de-a478-6c4862c843e9"
      },
      "execution_count": 4,
      "outputs": [
        {
          "output_type": "stream",
          "name": "stdout",
          "text": [
            "\u001b[?25l     \u001b[90m━━━━━━━━━━━━━━━━━━━━━━━━━━━━━━━━━━━━━━━━\u001b[0m \u001b[32m0.0/181.7 kB\u001b[0m \u001b[31m?\u001b[0m eta \u001b[36m-:--:--\u001b[0m\r\u001b[2K     \u001b[91m━━━━━━━━━━━━━━━\u001b[0m\u001b[91m╸\u001b[0m\u001b[90m━━━━━━━━━━━━━━━━━━━━━━━━\u001b[0m \u001b[32m71.7/181.7 kB\u001b[0m \u001b[31m1.9 MB/s\u001b[0m eta \u001b[36m0:00:01\u001b[0m\r\u001b[2K     \u001b[90m━━━━━━━━━━━━━━━━━━━━━━━━━━━━━━━━━━━━━━━━\u001b[0m \u001b[32m181.7/181.7 kB\u001b[0m \u001b[31m3.4 MB/s\u001b[0m eta \u001b[36m0:00:00\u001b[0m\n",
            "\u001b[2K     \u001b[90m━━━━━━━━━━━━━━━━━━━━━━━━━━━━━━━━━━━━━━━━\u001b[0m \u001b[32m953.9/953.9 kB\u001b[0m \u001b[31m16.2 MB/s\u001b[0m eta \u001b[36m0:00:00\u001b[0m\n",
            "\u001b[2K     \u001b[90m━━━━━━━━━━━━━━━━━━━━━━━━━━━━━━━━━━━━━━━━\u001b[0m \u001b[32m434.7/434.7 kB\u001b[0m \u001b[31m18.3 MB/s\u001b[0m eta \u001b[36m0:00:00\u001b[0m\n",
            "\u001b[?25h  Installing build dependencies ... \u001b[?25l\u001b[?25hdone\n",
            "  Getting requirements to build wheel ... \u001b[?25l\u001b[?25hdone\n",
            "  Preparing metadata (pyproject.toml) ... \u001b[?25l\u001b[?25hdone\n",
            "\u001b[2K     \u001b[90m━━━━━━━━━━━━━━━━━━━━━━━━━━━━━━━━━━━━━━━━\u001b[0m \u001b[32m1.7/1.7 MB\u001b[0m \u001b[31m24.5 MB/s\u001b[0m eta \u001b[36m0:00:00\u001b[0m\n",
            "\u001b[?25h  Building wheel for AutoROM.accept-rom-license (pyproject.toml) ... \u001b[?25l\u001b[?25hdone\n"
          ]
        }
      ]
    },
    {
      "cell_type": "code",
      "source": [
        "!pip install git+https://github.com/Stable-Baselines-Team/stable-baselines3-contrib -Uq"
      ],
      "metadata": {
        "colab": {
          "base_uri": "https://localhost:8080/"
        },
        "id": "Zw8DdmIZhs-x",
        "outputId": "c77dd802-b758-468b-eaac-1be81f5bd96e"
      },
      "execution_count": 5,
      "outputs": [
        {
          "output_type": "stream",
          "name": "stdout",
          "text": [
            "  Installing build dependencies ... \u001b[?25l\u001b[?25hdone\n",
            "  Getting requirements to build wheel ... \u001b[?25l\u001b[?25hdone\n",
            "  Preparing metadata (pyproject.toml) ... \u001b[?25l\u001b[?25hdone\n",
            "  Building wheel for sb3-contrib (pyproject.toml) ... \u001b[?25l\u001b[?25hdone\n"
          ]
        }
      ]
    },
    {
      "cell_type": "markdown",
      "source": [
        "**OR Tools**"
      ],
      "metadata": {
        "id": "PaM8PQPyh1r7"
      }
    },
    {
      "cell_type": "code",
      "source": [
        "!pip install ortools -Uq"
      ],
      "metadata": {
        "id": "DKIX-vish5vj"
      },
      "execution_count": 8,
      "outputs": []
    },
    {
      "cell_type": "markdown",
      "source": [
        "**Fila de Prioridade**"
      ],
      "metadata": {
        "id": "w8zAm1R5h-vl"
      }
    },
    {
      "cell_type": "code",
      "source": [
        "!pip install heapdict -Uq"
      ],
      "metadata": {
        "id": "l-eYy0g_h9_T"
      },
      "execution_count": 9,
      "outputs": []
    },
    {
      "cell_type": "markdown",
      "source": [
        "## Clonando o repositório"
      ],
      "metadata": {
        "id": "7U4w_LG2i4cD"
      }
    },
    {
      "cell_type": "code",
      "source": [
        "!git clone https://github.com/fredericmenezes/SOMN.git"
      ],
      "metadata": {
        "colab": {
          "base_uri": "https://localhost:8080/"
        },
        "id": "iQ9fmedCi9Rf",
        "outputId": "b68ed1c3-8a6e-49d3-c75d-7335ce34f1c7"
      },
      "execution_count": 10,
      "outputs": [
        {
          "output_type": "stream",
          "name": "stdout",
          "text": [
            "Cloning into 'SOMN'...\n",
            "remote: Enumerating objects: 1757, done.\u001b[K\n",
            "remote: Counting objects: 100% (1197/1197), done.\u001b[K\n",
            "remote: Compressing objects: 100% (690/690), done.\u001b[K\n",
            "remote: Total 1757 (delta 566), reused 1030 (delta 405), pack-reused 560\u001b[K\n",
            "Receiving objects: 100% (1757/1757), 62.31 MiB | 16.63 MiB/s, done.\n",
            "Resolving deltas: 100% (822/822), done.\n"
          ]
        }
      ]
    },
    {
      "cell_type": "markdown",
      "source": [
        "## Executando agente de Sweep"
      ],
      "metadata": {
        "id": "797rMlOPkpVp"
      }
    },
    {
      "cell_type": "markdown",
      "source": [
        "**mudando diretório**"
      ],
      "metadata": {
        "id": "PV0jqc4DkwB2"
      }
    },
    {
      "cell_type": "code",
      "source": [
        "%cd SOMN"
      ],
      "metadata": {
        "colab": {
          "base_uri": "https://localhost:8080/"
        },
        "id": "7eRc-ozckPJ-",
        "outputId": "d254b190-48d1-45f7-88b6-cf77276a7661"
      },
      "execution_count": 11,
      "outputs": [
        {
          "output_type": "stream",
          "name": "stdout",
          "text": [
            "/content/SOMN\n"
          ]
        }
      ]
    },
    {
      "cell_type": "markdown",
      "source": [
        "**Executando agente**"
      ],
      "metadata": {
        "id": "sKONafmAk1rg"
      }
    },
    {
      "cell_type": "code",
      "source": [
        "!CUDA_VISIBLE_DEVICES=0 wandb agent lacmor/\"Sintonia de Parametros2\"/yigxzqr6"
      ],
      "metadata": {
        "colab": {
          "base_uri": "https://localhost:8080/"
        },
        "id": "2n94QAxFkbaj",
        "outputId": "e67c6600-b509-415b-8cbe-29bc5a2f01fe"
      },
      "execution_count": 13,
      "outputs": [
        {
          "output_type": "stream",
          "name": "stdout",
          "text": [
            "\u001b[34m\u001b[1mwandb\u001b[0m: Starting wandb agent 🕵️\n",
            "2023-12-21 14:09:01,108 - wandb.wandb_agent - INFO - Running runs: []\n",
            "2023-12-21 14:09:01,293 - wandb.wandb_agent - INFO - Agent received command: run\n",
            "2023-12-21 14:09:01,293 - wandb.wandb_agent - INFO - Agent starting run with config:\n",
            "\tatraso: -1\n",
            "\tbatch_size: 64\n",
            "\tent_coef: 0.0018781319674859257\n",
            "\tgae_lambda: 0.9364032097946012\n",
            "\tgamma: 0.8898556085878107\n",
            "\tlearning_rate: 0.0036591569972376898\n",
            "\tn_epochs: 10\n",
            "\tn_steps: 4096\n",
            "\tobjetivo: 2\n",
            "\ttarget_kl: 0.012559751017663824\n",
            "2023-12-21 14:09:01,295 - wandb.wandb_agent - INFO - About to run command: /usr/bin/env python train.py --atraso=-1 --batch_size=64 --ent_coef=0.0018781319674859257 --gae_lambda=0.9364032097946012 --gamma=0.8898556085878107 --learning_rate=0.0036591569972376898 --n_epochs=10 --n_steps=4096 --objetivo=2 --target_kl=0.012559751017663824\n",
            "2023-12-21 14:09:06,305 - wandb.wandb_agent - INFO - Running runs: ['fgnc11hx']\n",
            "2023-12-21 14:09:06.631788: E external/local_xla/xla/stream_executor/cuda/cuda_dnn.cc:9261] Unable to register cuDNN factory: Attempting to register factory for plugin cuDNN when one has already been registered\n",
            "2023-12-21 14:09:06.631857: E external/local_xla/xla/stream_executor/cuda/cuda_fft.cc:607] Unable to register cuFFT factory: Attempting to register factory for plugin cuFFT when one has already been registered\n",
            "2023-12-21 14:09:06.633693: E external/local_xla/xla/stream_executor/cuda/cuda_blas.cc:1515] Unable to register cuBLAS factory: Attempting to register factory for plugin cuBLAS when one has already been registered\n",
            "2023-12-21 14:09:06.645176: I tensorflow/core/platform/cpu_feature_guard.cc:182] This TensorFlow binary is optimized to use available CPU instructions in performance-critical operations.\n",
            "To enable the following instructions: AVX2 FMA, in other operations, rebuild TensorFlow with the appropriate compiler flags.\n",
            "2023-12-21 14:09:08.241849: W tensorflow/compiler/tf2tensorrt/utils/py_utils.cc:38] TF-TRT Warning: Could not find TensorRT\n",
            "\u001b[34m\u001b[1mwandb\u001b[0m: Currently logged in as: \u001b[33mfredericmferreira\u001b[0m (\u001b[33mlacmor\u001b[0m). Use \u001b[1m`wandb login --relogin`\u001b[0m to force relogin\n",
            "\u001b[34m\u001b[1mwandb\u001b[0m: \u001b[33mWARNING\u001b[0m Ignored wandb.init() arg project when running a sweep.\n",
            "\u001b[34m\u001b[1mwandb\u001b[0m: Tracking run with wandb version 0.16.1\n",
            "\u001b[34m\u001b[1mwandb\u001b[0m: Run data is saved locally in \u001b[35m\u001b[1m/content/SOMN/wandb/run-20231221_140911-fgnc11hx\u001b[0m\n",
            "\u001b[34m\u001b[1mwandb\u001b[0m: Run \u001b[1m`wandb offline`\u001b[0m to turn off syncing.\n",
            "\u001b[34m\u001b[1mwandb\u001b[0m: Syncing run \u001b[33mSustentabilidade\u001b[0m\n",
            "\u001b[34m\u001b[1mwandb\u001b[0m: ⭐️ View project at \u001b[34m\u001b[4mhttps://wandb.ai/lacmor/Sintonia%20de%20Parametros2\u001b[0m\n",
            "\u001b[34m\u001b[1mwandb\u001b[0m: 🧹 View sweep at \u001b[34m\u001b[4mhttps://wandb.ai/lacmor/Sintonia%20de%20Parametros2/sweeps/yigxzqr6\u001b[0m\n",
            "\u001b[34m\u001b[1mwandb\u001b[0m: 🚀 View run at \u001b[34m\u001b[4mhttps://wandb.ai/lacmor/Sintonia%20de%20Parametros2/runs/fgnc11hx\u001b[0m\n",
            "\u001b[34m\u001b[1mwandb\u001b[0m: Ctrl-c pressed. Waiting for runs to end. Press ctrl-c again to terminate them.\n",
            "\u001b[34m\u001b[1mwandb\u001b[0m: Terminating and syncing runs. Press ctrl-c to kill.\n"
          ]
        }
      ]
    },
    {
      "cell_type": "code",
      "source": [],
      "metadata": {
        "id": "rRSenVx6muW9"
      },
      "execution_count": null,
      "outputs": []
    }
  ]
}